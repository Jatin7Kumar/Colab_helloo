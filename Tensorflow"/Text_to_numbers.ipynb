{
  "nbformat": 4,
  "nbformat_minor": 0,
  "metadata": {
    "colab": {
      "provenance": [],
      "include_colab_link": true
    },
    "kernelspec": {
      "name": "python3",
      "display_name": "Python 3"
    },
    "language_info": {
      "name": "python"
    }
  },
  "cells": [
    {
      "cell_type": "markdown",
      "metadata": {
        "id": "view-in-github",
        "colab_type": "text"
      },
      "source": [
        "<a href=\"https://colab.research.google.com/github/Jatin7Kumar/Colab_helloo/blob/main/Tensorflow%22/Text_to_numbers.ipynb\" target=\"_parent\"><img src=\"https://colab.research.google.com/assets/colab-badge.svg\" alt=\"Open In Colab\"/></a>"
      ]
    },
    {
      "cell_type": "markdown",
      "source": [
        "# Text Vectorization\n",
        "\n",
        "For as long as we have had computers, there has been the question of how to represent data in a way that machines can work with. In natural language processing (NLP), we often talk about text vectorization — representing words, sentences, or even larger units of text as vectors (or “vector embeddings”).\n",
        "\n",
        "Following are the types of text vectorization techniques-\n",
        "- One-hot Encoding (OHE)\n",
        "- Count Vectorizer\n",
        "- Bag-of-Words (BOW)\n",
        "- N-grams\n",
        "- Term Frequency-Inverse Document Frequency (TF-IDF)\n",
        "\n",
        "\n",
        "\n",
        "Familiar with Terminologies\n",
        "Before understanding Vectorization, below are the few terms that you need to understand.\n",
        "\n",
        "**Document** - \n",
        "A document is a single text data point. For Example, a review of a particular product by the user.\n",
        "\n",
        "**Corpus** - \n",
        "It a collection of all the documents present in our dataset.\n",
        "\n",
        "\n",
        "**Feature** - \n",
        "Every unique word in the corpus is considered as a feature."
      ],
      "metadata": {
        "id": "LaoGv4ntIS_s"
      }
    },
    {
      "cell_type": "markdown",
      "source": [
        "For Example, Let’s consider the 2 documents shown below:\n",
        "\n",
        "Sentences:\n",
        "```\n",
        "Dog hates a cat. \n",
        "It loves to go out and play.\n",
        "Cat loves to play with a ball.\n",
        "```\n",
        "We can build a corpus from the above 2 documents just by combining them.\n",
        "```\n",
        "Corpus = “Dog hates a cat. It loves to go out and play. Cat loves to play with a ball.”\n",
        "```\n",
        "And features will be all unique words: \n",
        "\n",
        "```\n",
        "Fetaures: [‘and’, ‘ball’, ‘cat’, ‘dog’, ‘go’, ‘hates’, ‘it’, ‘loves’, ‘out’, ‘play’, ‘to’, ‘with’]\n",
        "```"
      ],
      "metadata": {
        "id": "EqoNjKHMKd4d"
      }
    },
    {
      "cell_type": "code",
      "source": [
        "a = [1,2,3,4,4]\n",
        "a"
      ],
      "metadata": {
        "colab": {
          "base_uri": "https://localhost:8080/"
        },
        "id": "pDvzKAO7k7go",
        "outputId": "f3342cc4-5174-4310-cd47-9916965ca403"
      },
      "execution_count": null,
      "outputs": [
        {
          "output_type": "execute_result",
          "data": {
            "text/plain": [
              "[1, 2, 3, 4, 4]"
            ]
          },
          "metadata": {},
          "execution_count": 9
        }
      ]
    },
    {
      "cell_type": "code",
      "source": [
        "set(a)"
      ],
      "metadata": {
        "colab": {
          "base_uri": "https://localhost:8080/"
        },
        "id": "c5-6ig5ck_cU",
        "outputId": "90d04c05-1ce6-4107-81b5-c082d6e479cb"
      },
      "execution_count": null,
      "outputs": [
        {
          "output_type": "execute_result",
          "data": {
            "text/plain": [
              "{1, 2, 3, 4}"
            ]
          },
          "metadata": {},
          "execution_count": 10
        }
      ]
    },
    {
      "cell_type": "markdown",
      "source": [
        "## What is Word Embedding?\n",
        "In very simple terms, Word Embeddings are the texts converted into numbers and there may be different numerical representations of the same text. But before we dive into the details of Word Embeddings, the following question should come to mind:\n",
        "\n",
        "## Why do we need Word Embeddings?\n",
        "\n",
        "In short, we can say that to build any model in machine learning or deep learning, the final level data has to be in numerical form because models don’t understand text or image data directly as humans do.\n",
        "\n",
        "So, another question that may also come to mind is given:\n",
        "\n",
        "## How did NLP models learn patterns from text data?\n",
        "To convert the text data into numerical data, we need some smart ways which are known as vectorization, or in the NLP world, it is known as Word embeddings.\n",
        "\n",
        "Therefore, Vectorization or word embedding is the process of converting text data to numerical vectors. Later those vectors are used to build various machine learning models. In this manner, we say this as extracting features with the help of text with an aim to build multiple natural languages, processing models, etc. We have different ways to convert the text data to numerical vectors.\n",
        "\n",
        "## Word embedding\n",
        "\n",
        "A Word Embedding generally tries to map a word using a dictionary to its vector form.\n",
        "\n",
        "\n",
        "Different types of Word Embeddings\n",
        "Broadly, we can classified word embeddings into the following two categories:\n",
        "\n",
        "- Frequency-based or Statistical based Word Embedding\n",
        "- Prediction based Word Embedding"
      ],
      "metadata": {
        "id": "bIrvy376LVrh"
      }
    },
    {
      "cell_type": "markdown",
      "source": [
        "## One-hot Encoding\n",
        "\n",
        "Prior to the wide-spread use of neural networks in NLP -- in what we will refer to as \"traditional\" NLP -- vectorization of text often occurred via one-hot encoding . For one-hot encoding, each word, or token, in a text corresponds to a vector element.\n",
        "\n",
        "<img width = 400 src = https://adriancolyer.files.wordpress.com/2016/04/word2vec-one-hot.png >\n",
        "\n",
        "\n",
        "We could consider the image above, for example, as a small excerpt of a vector representing the sentence \"The queen entered the room.\" Note that only the element for \"queen\" has been activated, while those for \"king,\" \"man,\" etc. have not. \n",
        "\n",
        "The result of a one-hot encoding process on a corpus is a sparse matrix. Consider if you had a corpus with 20,000 unique words: a single short document in that corpus of, perhaps, 40 words would be represented by a matrix with 20,000 rows (one for each unique word) with a maximum of 40 non-zero matrix elements (and potentially far-fewer if there are a high number of non-unique words in this collection of 40 words). This leaves a lot of zeroes, and can end up taking a large amount of memory to house these spare representations.\n",
        "\n",
        "Beyond potential memory capacity issues, a major drawback of one-hot encoding is the lack of meaning representation. While we capture the presence and absence of words in a particular text well with this approach, we can't easily determine any meaning from simple presence/absence of these words. Part of this problem is that we lose positional relationships between words, or word order, using one-hot encoding. "
      ],
      "metadata": {
        "id": "-a5HLk0oOeEG"
      }
    },
    {
      "cell_type": "markdown",
      "source": [
        "## Bag-of-Words:\n",
        "\n",
        "The bag-of-words model converts text into fixed-length vectors by counting how many times each word appears.\n",
        "\n",
        "Let us illustrate this with an example. Consider that we have the following sentences:\n",
        "\n",
        "```\n",
        "Review 1: This movie is very scary and long\n",
        "Review 2: This movie is not scary and is slow\n",
        "Review 3: This movie is spooky and good\n",
        "```\n",
        "We will first build a vocabulary from all the unique words in the above three reviews. The vocabulary consists of these 11 words:\n",
        "\n",
        "{ ‘This’, ‘movie’, ‘is’, ‘very’, ‘scary’, ‘and’, ‘long’, ‘not’,  ‘slow’, ‘spooky’,  ‘good’.}\n",
        "\n",
        "We can now take each of these words and mark their occurrence in the three movie reviews above with 1s and 0s. This will give us 3 vectors for 3 reviews:\n",
        "\n",
        "<img widyh = 600 src  = https://cdn.analyticsvidhya.com/wp-content/uploads/2020/02/BoWBag-of-Words-model-2.png >\n",
        "\n",
        "\n",
        "Vector of Review 1: [1 1 1 1 1 1 1 0 0 0 0]\n",
        "\n",
        "Vector of Review 2: [1 1 2 0 0 1 1 0 1 0 0]\n",
        "\n",
        "Vector of Review 3: [1 1 1 0 0 0 1 0 0 1 1]\n",
        "\n",
        "And that’s the core idea behind a Bag of Words (BoW) model.\n",
        "\n",
        "**Limitations of Bag-of-Words:**\n",
        "\n",
        "In the above example, we can have vectors of length 11. However, we start facing issues when we come across new sentences:\n",
        "\n",
        "1. If the new sentences contain new words, then our vocabulary size would increase and thereby, the length of the vectors would increase too.\n",
        "2. Additionally, the vectors would also contain many 0s, thereby resulting in a sparse matrix (which is what we would like to avoid)\n",
        "3. We are retaining no information on the grammar of the sentences nor on the ordering of the words in the text."
      ],
      "metadata": {
        "id": "ItHD5xHpQ0n-"
      }
    },
    {
      "cell_type": "markdown",
      "source": [
        "Countvectorizer - https://scikit-learn.org/stable/modules/generated/sklearn.feature_extraction.text.CountVectorizer.html"
      ],
      "metadata": {
        "id": "sj_Jj4pRVj4D"
      }
    },
    {
      "cell_type": "code",
      "source": [
        "from sklearn.feature_extraction.text import CountVectorizer\n",
        "\n",
        "corpus = [\"This movie is very scary and long\" ,\n",
        "          \"This movie is not scary and is slow\",\n",
        "          \"This movie is spooky and good\"]\n",
        "\n",
        "vectorizer = CountVectorizer()\n",
        "\n",
        "X = vectorizer.fit_transform(corpus)\n",
        "\n",
        "vectorizer.get_feature_names_out()\n"
      ],
      "metadata": {
        "colab": {
          "base_uri": "https://localhost:8080/"
        },
        "id": "Z4R_-tlWViwr",
        "outputId": "828a9b77-04b7-4b10-f25f-b8585011180c"
      },
      "execution_count": null,
      "outputs": [
        {
          "output_type": "execute_result",
          "data": {
            "text/plain": [
              "array(['and', 'good', 'is', 'long', 'movie', 'not', 'scary', 'slow',\n",
              "       'spooky', 'this', 'very'], dtype=object)"
            ]
          },
          "metadata": {},
          "execution_count": 11
        }
      ]
    },
    {
      "cell_type": "code",
      "source": [
        "X.toarray()"
      ],
      "metadata": {
        "colab": {
          "base_uri": "https://localhost:8080/"
        },
        "id": "39nhAKEmWO1P",
        "outputId": "445dd06d-eb79-4e19-bc3b-102887982f55"
      },
      "execution_count": null,
      "outputs": [
        {
          "output_type": "execute_result",
          "data": {
            "text/plain": [
              "array([[1, 0, 1, 1, 1, 0, 1, 0, 0, 1, 1],\n",
              "       [1, 0, 2, 0, 1, 1, 1, 1, 0, 1, 0],\n",
              "       [1, 1, 1, 0, 1, 0, 0, 0, 1, 1, 0]])"
            ]
          },
          "metadata": {},
          "execution_count": 12
        }
      ]
    },
    {
      "cell_type": "markdown",
      "source": [
        "## n-grams\n",
        "\n",
        "N-grams are continuous sequences of words or symbols or tokens in a document. In technical terms, they can be defined as the neighbouring sequences of items in a document. They come into play when we deal with text data in NLP(Natural Language Processing) tasks.\n",
        "\n",
        "\n",
        "![image.png](data:image/png;base64,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)\n",
        "\n"
      ],
      "metadata": {
        "id": "Zu7i54wtUU0h"
      }
    },
    {
      "cell_type": "markdown",
      "source": [
        "example of n-grams\n",
        "\n",
        "Let’s understand n-grams practically with the help of the following sentence:\n",
        "\n",
        "“I reside in Bengaluru”\n",
        "\n",
        "![image.png](data:image/png;base64,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)"
      ],
      "metadata": {
        "id": "omb4G9YbUsXW"
      }
    },
    {
      "cell_type": "code",
      "source": [
        "from sklearn.feature_extraction.text import CountVectorizer\n",
        "\n",
        "corpus = [\"This movie is very scary and long\" ,\n",
        "          \"This movie is not scary and is slow\",\n",
        "          \"This movie is spooky and good\"]\n",
        "\n",
        "\n",
        "vectorizer2 = CountVectorizer(analyzer='word', ngram_range=(3, 3))\n",
        "\n",
        "X2 = vectorizer2.fit_transform(corpus)\n",
        "\n",
        "vectorizer2.get_feature_names_out()"
      ],
      "metadata": {
        "colab": {
          "base_uri": "https://localhost:8080/"
        },
        "id": "ZFpDt_XIXAOB",
        "outputId": "d5bcc58b-5eed-46c2-b621-3a9548d0ed71"
      },
      "execution_count": null,
      "outputs": [
        {
          "output_type": "execute_result",
          "data": {
            "text/plain": [
              "array(['and is slow', 'is not scary', 'is spooky and', 'is very scary',\n",
              "       'movie is not', 'movie is spooky', 'movie is very',\n",
              "       'not scary and', 'scary and is', 'scary and long',\n",
              "       'spooky and good', 'this movie is', 'very scary and'], dtype=object)"
            ]
          },
          "metadata": {},
          "execution_count": 16
        }
      ]
    },
    {
      "cell_type": "code",
      "source": [
        "X2.toarray()"
      ],
      "metadata": {
        "colab": {
          "base_uri": "https://localhost:8080/"
        },
        "id": "PREQSjdQXVRY",
        "outputId": "5b72b04a-d0f1-40ad-a18a-45291540ac78"
      },
      "execution_count": null,
      "outputs": [
        {
          "output_type": "execute_result",
          "data": {
            "text/plain": [
              "array([[0, 0, 0, 1, 0, 0, 1, 0, 0, 1, 0, 1, 1],\n",
              "       [1, 1, 0, 0, 1, 0, 0, 1, 1, 0, 0, 1, 0],\n",
              "       [0, 0, 1, 0, 0, 1, 0, 0, 0, 0, 1, 1, 0]])"
            ]
          },
          "metadata": {},
          "execution_count": 17
        }
      ]
    },
    {
      "cell_type": "markdown",
      "source": [
        "### How does the value of N in the N-grams method create a tradeoff?\n",
        "The trade-off is created while choosing the N values. If we choose N as a smaller number, then it may not be sufficient enough to provide the most useful information. But on the contrary, if we choose N as a high value, then it will yield a huge matrix with lots of features. Therefore, N-gram may be a powerful technique, but it needs a little more care.\n",
        "\n",
        "**Disadvantages of N-Grams**\n",
        "1. It has too many features.\n",
        "\n",
        "2. Due to too many features, the feature set becomes too sparse and is computationally expensive.\n",
        "\n",
        "3. Choose the optimal value of N is not that easy task."
      ],
      "metadata": {
        "id": "c3i3UpGzYIl6"
      }
    },
    {
      "cell_type": "markdown",
      "source": [
        "## Term Frequency-Inverse Document Frequency (TF-IDF)\n",
        "\n",
        "As we discussed in the above techniques that the BOW method is simple and works well, but the problem with that is that it treats all words equally. As a result, it cannot distinguish very common words or rare words. So, to solve this problem, TF-IDF comes into the picture!\n",
        "\n",
        "Term frequency-inverse document frequency ( TF-IDF) gives a measure that takes the importance of a word into consideration depending on how frequently it occurs in a document and a corpus.\n",
        "\n",
        "To understand TF-IDF, firstly we will understand the two terms separately:\n",
        "\n",
        "- Term frequency (TF)\n",
        "- Inverse document frequency (IDF)\n"
      ],
      "metadata": {
        "id": "SDm8PpxsT7eK"
      }
    },
    {
      "cell_type": "markdown",
      "source": [
        "### Term Frequency\n",
        "\n",
        "Term frequency denotes the frequency of a word in a document. For a specified word, it is defined as the ratio of the number of times a word appears in a document to the total number of words in the document.\n",
        "\n",
        "Or, it is also defined in the following manner:\n",
        "\n",
        "It is the percentage of the number of times a word (x) occurs in a particular document (y) divided by the total number of words in that document.\n",
        "\n",
        "<img src = https://miro.medium.com/max/926/1*V3qfsHl0t-bV5kA0mlnsjQ.png>\n",
        "\n",
        "For Example, Consider the following document\n",
        "```\n",
        "Document: Cat loves to play with a ball\n",
        "```\n",
        "For the above sentence, the term frequency value for word cat will be: tf(‘cat’) = 1 / 6\n",
        "\n",
        "Note: Sentence “Cat loves to play with a ball” has 7 total words but the word ‘a’ has been ignored."
      ],
      "metadata": {
        "id": "VNz-mMVrZJ5-"
      }
    },
    {
      "cell_type": "markdown",
      "source": [
        "### Inverse Document Frequency\n",
        "It measures the importance of the word in the corpus. It measures how common a particular word is across all the documents in the corpus.\n",
        "\n",
        "It is the logarithmic ratio of no. of total documents to no. of a document with a particular word.\n",
        "\n",
        "<img src = https://miro.medium.com/max/890/1*wvPGL02y36QL7-tdG1BT1A.png >\n",
        "\n",
        "This term of the equation helps in pulling out the rare words since the value of the product is maximum when both the terms are maximum. What does that mean? If a word appears multiple times across many documents, then the denominator df will increase, reducing the value of the second term.\n",
        "\n",
        "Here the main idea is to find the common or rare words.\n",
        "\n",
        "For Example, In any corpus, few words like ‘is’ or ‘and’ are very common, and most likely, they will be present in almost every document.\n",
        "\n",
        "Let’s say the word ‘is’ is present in all the documents is a corpus of 1000 documents. The idf for that would be:\n",
        "\n",
        "The idf(‘is’) is equal to log (1000/1000) = log 1 = 0\n",
        "\n",
        "formula for tf-idf\n",
        "<img src = https://miro.medium.com/max/588/1*D2UA6xj9KqcH6amzVj5Y5g.png>"
      ],
      "metadata": {
        "id": "9iiTgJTTZlzy"
      }
    },
    {
      "cell_type": "markdown",
      "source": [
        "TF-IDF -: https://scikit-learn.org/stable/modules/generated/sklearn.feature_extraction.text.TfidfVectorizer.html#sklearn.feature_extraction.text.TfidfVectorizer"
      ],
      "metadata": {
        "id": "rN1L8dCuaylX"
      }
    },
    {
      "cell_type": "code",
      "execution_count": null,
      "metadata": {
        "colab": {
          "base_uri": "https://localhost:8080/"
        },
        "id": "6LGy2qBDGO_j",
        "outputId": "af26036f-a66b-4caf-b33c-e1c2faa098f8"
      },
      "outputs": [
        {
          "output_type": "execute_result",
          "data": {
            "text/plain": [
              "array(['and', 'good', 'is', 'long', 'movie', 'not', 'scary', 'slow',\n",
              "       'spooky', 'this', 'very'], dtype=object)"
            ]
          },
          "metadata": {},
          "execution_count": 7
        }
      ],
      "source": [
        "from sklearn.feature_extraction.text import TfidfVectorizer\n",
        "\n",
        "corpus = [\"This movie is very scary and long\" ,\n",
        "          \"This movie is not scary and is slow\",\n",
        "          \"This movie is spooky and good\"]\n",
        "\n",
        "vectorizer = TfidfVectorizer()\n",
        "\n",
        "X = vectorizer.fit_transform(corpus)\n",
        "\n",
        "vectorizer.get_feature_names_out()"
      ]
    },
    {
      "cell_type": "code",
      "source": [
        "X.toarray()"
      ],
      "metadata": {
        "colab": {
          "base_uri": "https://localhost:8080/"
        },
        "id": "9UN4bmYVbKDG",
        "outputId": "bf3f6bc5-a183-48c1-9257-0007f6125495"
      },
      "execution_count": null,
      "outputs": [
        {
          "output_type": "execute_result",
          "data": {
            "text/plain": [
              "array([[0.29628336, 0.        , 0.29628336, 0.50165133, 0.29628336,\n",
              "        0.        , 0.38151877, 0.        , 0.        , 0.29628336,\n",
              "        0.50165133],\n",
              "       [0.26359985, 0.        , 0.5271997 , 0.        , 0.26359985,\n",
              "        0.44631334, 0.3394328 , 0.44631334, 0.        , 0.26359985,\n",
              "        0.        ],\n",
              "       [0.32052772, 0.54270061, 0.32052772, 0.        , 0.32052772,\n",
              "        0.        , 0.        , 0.        , 0.54270061, 0.32052772,\n",
              "        0.        ]])"
            ]
          },
          "metadata": {},
          "execution_count": 8
        }
      ]
    },
    {
      "cell_type": "markdown",
      "source": [
        "Important Points about TF-IDF Vectorizer\n",
        "1. Similar to the count vectorization method, in the TF-IDF method, a document term matrix is generated and each column represents an individual unique word.\n",
        "\n",
        "2. The difference in the TF-IDF method is that each cell doesn’t indicate the term frequency, but contains a weight value that signifies how important a word is for an individual text message or document\n",
        "\n",
        "3. This method is based on the frequency method but it is different from the count vectorization in the sense that it takes into considerations not just the occurrence of a word in a single document but in the entire corpus.\n",
        "\n",
        "4. TF-IDF gives more weight to less frequently occurring events and less weight to expected events. So, it penalizes frequently occurring words that appear frequently in a document such as “the”, “is” but assigns greater weight to less frequent or rare words.\n",
        "\n",
        "5. The product of TF x IDF of a word indicates how often the token is found in the document and  how unique the token is to the whole entire corpus of documents."
      ],
      "metadata": {
        "id": "0QAA4dQXbz3O"
      }
    },
    {
      "cell_type": "code",
      "source": [],
      "metadata": {
        "id": "_ZjjpDFkbN1c"
      },
      "execution_count": null,
      "outputs": []
    }
  ]
}